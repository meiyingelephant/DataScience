{
  "nbformat": 4,
  "nbformat_minor": 0,
  "metadata": {
    "colab": {
      "name": "Untitled0.ipynb",
      "provenance": [],
      "collapsed_sections": []
    },
    "kernelspec": {
      "name": "python3",
      "display_name": "Python 3"
    },
    "accelerator": "GPU"
  },
  "cells": [
    {
      "cell_type": "markdown",
      "metadata": {
        "id": "HmTb56zbOr9J",
        "colab_type": "text"
      },
      "source": [
        "# Brain Tumor Analysis"
      ]
    },
    {
      "cell_type": "markdown",
      "metadata": {
        "id": "abPBVIcsipbU",
        "colab_type": "text"
      },
      "source": [
        "# Introduction\n"
      ]
    },
    {
      "cell_type": "markdown",
      "metadata": {
        "id": "kul5IkBcx9bu",
        "colab_type": "text"
      },
      "source": [
        "A brain tumor occurs when abnormal cells form within the brain. "
      ]
    },
    {
      "cell_type": "markdown",
      "metadata": {
        "id": "CWWOJH0iO4TP",
        "colab_type": "text"
      },
      "source": [
        "## Check GPU\n"
      ]
    },
    {
      "cell_type": "code",
      "metadata": {
        "id": "u4JPp2QOvj3y",
        "colab_type": "code",
        "colab": {
          "base_uri": "https://localhost:8080/",
          "height": 289
        },
        "outputId": "3873c3f1-084d-4f15-890d-390a171545bb"
      },
      "source": [
        "!/opt/bin/nvidia-smi"
      ],
      "execution_count": null,
      "outputs": [
        {
          "output_type": "stream",
          "text": [
            "Fri Jul 31 21:47:34 2020       \n",
            "+-----------------------------------------------------------------------------+\n",
            "| NVIDIA-SMI 418.67       Driver Version: 418.67       CUDA Version: 10.1     |\n",
            "|-------------------------------+----------------------+----------------------+\n",
            "| GPU  Name        Persistence-M| Bus-Id        Disp.A | Volatile Uncorr. ECC |\n",
            "| Fan  Temp  Perf  Pwr:Usage/Cap|         Memory-Usage | GPU-Util  Compute M. |\n",
            "|===============================+======================+======================|\n",
            "|   0  Tesla T4            Off  | 00000000:00:04.0 Off |                    0 |\n",
            "| N/A   77C    P0    35W /  70W |   4315MiB / 15079MiB |      0%      Default |\n",
            "+-------------------------------+----------------------+----------------------+\n",
            "                                                                               \n",
            "+-----------------------------------------------------------------------------+\n",
            "| Processes:                                                       GPU Memory |\n",
            "|  GPU       PID   Type   Process name                             Usage      |\n",
            "|=============================================================================|\n",
            "+-----------------------------------------------------------------------------+\n"
          ],
          "name": "stdout"
        }
      ]
    },
    {
      "cell_type": "markdown",
      "metadata": {
        "id": "aPd3bYzuO-v5",
        "colab_type": "text"
      },
      "source": [
        "## Import Library"
      ]
    },
    {
      "cell_type": "code",
      "metadata": {
        "id": "eu1zxe439Jqk",
        "colab_type": "code",
        "colab": {}
      },
      "source": [
        "import numpy as np # linear algebra\n",
        "import pandas as pd # data processing, CSV file I/O (e.g. pd.read_csv)\n",
        "import os\n",
        "import cv2\n",
        "import tensorflow as tf\n",
        "from IPython.display import Image\n",
        "from matplotlib import pyplot as plt\n",
        "from IPython.display import SVG\n",
        "#from tensorflow.keras.utils import plot_model\n",
        "\n",
        "\n",
        "from tensorflow.python.keras.datasets import mnist\n",
        "from tensorflow.python.keras.layers.core import Dense, Dropout, Activation, Flatten\n",
        "from tensorflow.python.keras.models import Sequential\n",
        "from tensorflow.python.keras.utils import np_utils\n",
        "\n",
        "\n",
        "from keras.applications.vgg16 import VGG16\n"
      ],
      "execution_count": null,
      "outputs": []
    },
    {
      "cell_type": "markdown",
      "metadata": {
        "id": "pqugsjCBPF0d",
        "colab_type": "text"
      },
      "source": [
        "## Import Data"
      ]
    },
    {
      "cell_type": "code",
      "metadata": {
        "id": "q7ZTYqKCRQnQ",
        "colab_type": "code",
        "colab": {
          "base_uri": "https://localhost:8080/",
          "height": 54
        },
        "outputId": "e0cd2b43-1642-4a21-9882-7708dbb8b727"
      },
      "source": [
        "from google.colab import drive\n",
        "drive.mount('/content/drive/')"
      ],
      "execution_count": null,
      "outputs": [
        {
          "output_type": "stream",
          "text": [
            "Drive already mounted at /content/drive/; to attempt to forcibly remount, call drive.mount(\"/content/drive/\", force_remount=True).\n"
          ],
          "name": "stdout"
        }
      ]
    },
    {
      "cell_type": "code",
      "metadata": {
        "id": "QVIXjGmi9KdL",
        "colab_type": "code",
        "colab": {}
      },
      "source": [
        "os.chdir('/content/drive/My Drive/Colab_Notebooks/Brain_Tumor/brain_tumor_dataset/yes')"
      ],
      "execution_count": null,
      "outputs": []
    },
    {
      "cell_type": "code",
      "metadata": {
        "id": "m3Ycb6LpQSZS",
        "colab_type": "code",
        "colab": {
          "base_uri": "https://localhost:8080/",
          "height": 54
        },
        "outputId": "df89a75e-f41e-4303-b7ec-253b4a58bf9b"
      },
      "source": [
        "from google.colab import drive\n",
        "drive.mount('/content/drive')"
      ],
      "execution_count": null,
      "outputs": [
        {
          "output_type": "stream",
          "text": [
            "Drive already mounted at /content/drive; to attempt to forcibly remount, call drive.mount(\"/content/drive\", force_remount=True).\n"
          ],
          "name": "stdout"
        }
      ]
    },
    {
      "cell_type": "code",
      "metadata": {
        "id": "BXivM6ia9PHZ",
        "colab_type": "code",
        "colab": {}
      },
      "source": [
        "yes=os.listdir('/content/drive/My Drive/Colab_Notebooks/Brain_Tumor/brain_tumor_dataset/yes')\n",
        "no=os.listdir('/content/drive/My Drive/Colab_Notebooks/Brain_Tumor/brain_tumor_dataset/no')"
      ],
      "execution_count": null,
      "outputs": []
    },
    {
      "cell_type": "code",
      "metadata": {
        "id": "UT8YLUdM9Q6K",
        "colab_type": "code",
        "colab": {}
      },
      "source": [
        "X_data =[]\n",
        "for file in yes:\n",
        "    img = cv2.imread('/content/drive/My Drive/Colab_Notebooks/Brain_Tumor/brain_tumor_dataset/yes/'+file)\n",
        "    face = cv2.resize(img, (224, 224) )\n",
        "    (b, g, r)=cv2.split(face) \n",
        "    img=cv2.merge([r,g,b])\n",
        "    X_data.append(img)\n",
        "\n",
        "for file in no:\n",
        "    img = cv2.imread('/content/drive/My Drive/Colab_Notebooks/Brain_Tumor/brain_tumor_dataset/no/'+file)\n",
        "    face = cv2.resize(img, (224, 224) )\n",
        "    (b, g, r)=cv2.split(face) \n",
        "    img=cv2.merge([r,g,b])\n",
        "    X_data.append(img)"
      ],
      "execution_count": null,
      "outputs": []
    },
    {
      "cell_type": "code",
      "metadata": {
        "id": "yET1G8V4qubQ",
        "colab_type": "code",
        "colab": {
          "base_uri": "https://localhost:8080/",
          "height": 34
        },
        "outputId": "6ffe28e6-be0a-4b04-d97e-59653b18c6e7"
      },
      "source": [
        "X = np.squeeze(X_data)\n",
        "X.shape"
      ],
      "execution_count": null,
      "outputs": [
        {
          "output_type": "execute_result",
          "data": {
            "text/plain": [
              "(257, 224, 224, 3)"
            ]
          },
          "metadata": {
            "tags": []
          },
          "execution_count": 62
        }
      ]
    },
    {
      "cell_type": "code",
      "metadata": {
        "id": "mx7NLFL5zwZ0",
        "colab_type": "code",
        "colab": {
          "base_uri": "https://localhost:8080/",
          "height": 269
        },
        "outputId": "9ddb3c5e-e0f3-4e7d-ac06-59346134940c"
      },
      "source": [
        "plt.imshow(X[5], interpolation='nearest')\n",
        "plt.show()"
      ],
      "execution_count": null,
      "outputs": [
        {
          "output_type": "display_data",
          "data": {
            "image/png": "[encoded data removed]",
            "text/plain": [
              "<Figure size 432x288 with 1 Axes>"
            ]
          },
          "metadata": {
            "tags": [],
            "needs_background": "light"
          }
        }
      ]
    },
    {
      "cell_type": "code",
      "metadata": {
        "id": "-Hq3B6hjzyt5",
        "colab_type": "code",
        "colab": {}
      },
      "source": [
        "# Normalize data\n",
        "X = X.astype('float32')\n",
        "X /= 255"
      ],
      "execution_count": null,
      "outputs": []
    },
    {
      "cell_type": "code",
      "metadata": {
        "id": "a6XXApb2z1H8",
        "colab_type": "code",
        "colab": {
          "base_uri": "https://localhost:8080/",
          "height": 221
        },
        "outputId": "ede2ef72-98ae-442e-ccd4-6c6bffc3304f"
      },
      "source": [
        "target_x=np.full(len(yes),1)\n",
        "target_y=np.full(len(no),0)\n",
        "data_target=np.concatenate([target_x,target_y])\n",
        "data_target"
      ],
      "execution_count": null,
      "outputs": [
        {
          "output_type": "execute_result",
          "data": {
            "text/plain": [
              "array([1, 1, 1, 1, 1, 1, 1, 1, 1, 1, 1, 1, 1, 1, 1, 1, 1, 1, 1, 1, 1, 1,\n",
              "       1, 1, 1, 1, 1, 1, 1, 1, 1, 1, 1, 1, 1, 1, 1, 1, 1, 1, 1, 1, 1, 1,\n",
              "       1, 1, 1, 1, 1, 1, 1, 1, 1, 1, 1, 1, 1, 1, 1, 1, 1, 1, 1, 1, 1, 1,\n",
              "       1, 1, 1, 1, 1, 1, 1, 1, 1, 1, 1, 1, 1, 1, 1, 1, 1, 1, 1, 1, 1, 1,\n",
              "       1, 1, 1, 1, 1, 1, 1, 1, 1, 1, 1, 1, 1, 1, 1, 1, 1, 1, 1, 1, 1, 1,\n",
              "       1, 1, 1, 1, 1, 1, 1, 1, 1, 1, 1, 1, 1, 1, 1, 1, 1, 1, 1, 1, 1, 1,\n",
              "       1, 1, 1, 1, 1, 1, 1, 1, 1, 1, 1, 1, 1, 1, 1, 1, 1, 1, 1, 1, 1, 1,\n",
              "       1, 1, 1, 1, 1, 0, 0, 0, 0, 0, 0, 0, 0, 0, 0, 0, 0, 0, 0, 0, 0, 0,\n",
              "       0, 0, 0, 0, 0, 0, 0, 0, 0, 0, 0, 0, 0, 0, 0, 0, 0, 0, 0, 0, 0, 0,\n",
              "       0, 0, 0, 0, 0, 0, 0, 0, 0, 0, 0, 0, 0, 0, 0, 0, 0, 0, 0, 0, 0, 0,\n",
              "       0, 0, 0, 0, 0, 0, 0, 0, 0, 0, 0, 0, 0, 0, 0, 0, 0, 0, 0, 0, 0, 0,\n",
              "       0, 0, 0, 0, 0, 0, 0, 0, 0, 0, 0, 0, 0, 0, 0])"
            ]
          },
          "metadata": {
            "tags": []
          },
          "execution_count": 65
        }
      ]
    },
    {
      "cell_type": "code",
      "metadata": {
        "id": "DUs_UZjNz27r",
        "colab_type": "code",
        "colab": {
          "base_uri": "https://localhost:8080/",
          "height": 34
        },
        "outputId": "ae757741-b85d-45ff-b4c1-6a583f7c7738"
      },
      "source": [
        "len(data_target)"
      ],
      "execution_count": null,
      "outputs": [
        {
          "output_type": "execute_result",
          "data": {
            "text/plain": [
              "257"
            ]
          },
          "metadata": {
            "tags": []
          },
          "execution_count": 66
        }
      ]
    },
    {
      "cell_type": "code",
      "metadata": {
        "id": "aBCPV1tZz5AR",
        "colab_type": "code",
        "colab": {
          "base_uri": "https://localhost:8080/",
          "height": 34
        },
        "outputId": "ed27cc4c-3269-485b-8a0e-90caa39a4be4"
      },
      "source": [
        "lenghth = len(data_target)\n",
        "index = np.arange(0,lenghth,1)\n",
        "len_train = round(lenghth*0.7)\n",
        "len_test = lenghth - len_train\n",
        "print (\"train size :\",len_train,\" test_size :\",len_test)"
      ],
      "execution_count": null,
      "outputs": [
        {
          "output_type": "stream",
          "text": [
            "train size : 180  test_size : 77\n"
          ],
          "name": "stdout"
        }
      ]
    },
    {
      "cell_type": "code",
      "metadata": {
        "id": "I8Eb1nYGz6H5",
        "colab_type": "code",
        "colab": {
          "base_uri": "https://localhost:8080/",
          "height": 51
        },
        "outputId": "e58550ad-fd86-4aec-d82b-3dc40e704235"
      },
      "source": [
        "from random import randint, sample\n",
        "X_train, y_train, X_test, y_test = [],[],[],[]\n",
        "test_index = sample(set(index), len_test)\n",
        "\n",
        "for i in range(lenghth):\n",
        "    if i not in test_index:\n",
        "        X_train.append(X[i])\n",
        "        y_train.append(data_target[i])\n",
        "    else:\n",
        "        X_test.append(X[i])\n",
        "        y_test.append(data_target[i])\n",
        "\n",
        "X_train = np.squeeze(X_train)\n",
        "y_train = np.asarray(y_train)\n",
        "#y_train = np.squeeze(y_train)\n",
        "X_test = np.squeeze(X_test)\n",
        "y_test = np.asarray(y_test)\n",
        "#y_test = np.squeeze(y_test)\n",
        "\n",
        "print(\"X_train :\",X_train.shape,\n",
        "      \"y_train :\",y_train.shape,\n",
        "     \"\\nX_test :\",X_test.shape,\n",
        "     \"y_test :\",y_test.shape)"
      ],
      "execution_count": null,
      "outputs": [
        {
          "output_type": "stream",
          "text": [
            "X_train : (180, 224, 224, 3) y_train : (180,) \n",
            "X_test : (77, 224, 224, 3) y_test : (77,)\n"
          ],
          "name": "stdout"
        }
      ]
    },
    {
      "cell_type": "code",
      "metadata": {
        "id": "8VA6b8vJ0DyI",
        "colab_type": "code",
        "colab": {}
      },
      "source": [
        "y_train = to_categorical(y_train)\n",
        "y_test = to_categorical(y_test)"
      ],
      "execution_count": null,
      "outputs": []
    },
    {
      "cell_type": "code",
      "metadata": {
        "id": "EiSWVspe0Fn9",
        "colab_type": "code",
        "colab": {
          "base_uri": "https://localhost:8080/",
          "height": 34
        },
        "outputId": "6c600c38-6d71-48fa-cdf7-df3109d896d9"
      },
      "source": [
        "y_train.shape"
      ],
      "execution_count": null,
      "outputs": [
        {
          "output_type": "execute_result",
          "data": {
            "text/plain": [
              "(180, 2)"
            ]
          },
          "metadata": {
            "tags": []
          },
          "execution_count": 70
        }
      ]
    },
    {
      "cell_type": "markdown",
      "metadata": {
        "id": "bEt9KDqeiyUK",
        "colab_type": "text"
      },
      "source": [
        "# Build CNN Model\n"
      ]
    },
    {
      "cell_type": "code",
      "metadata": {
        "id": "PNLNFABJUMI3",
        "colab_type": "code",
        "colab": {
          "base_uri": "https://localhost:8080/",
          "height": 595
        },
        "outputId": "621d12ca-9492-46c5-fdcf-68383c079c34"
      },
      "source": [
        "model = tf.keras.Sequential()\n",
        "\n",
        "# Must define the input shape in the first layer of the neural network\n",
        "model.add(tf.keras.layers.Conv2D(filters=16,kernel_size=9, padding='same', activation='relu', input_shape=(224,224,3))) \n",
        "model.add(tf.keras.layers.MaxPooling2D(pool_size=2))\n",
        "model.add(tf.keras.layers.Dropout(0.45))\n",
        "\n",
        "model.add(tf.keras.layers.Conv2D(filters=16,kernel_size=9,padding='same', activation='relu'))\n",
        "model.add(tf.keras.layers.MaxPooling2D(pool_size=2))\n",
        "model.add(tf.keras.layers.Dropout(0.25))\n",
        "\n",
        "model.add(tf.keras.layers.Conv2D(filters=36, kernel_size=9, padding='same', activation='relu'))\n",
        "model.add(tf.keras.layers.MaxPooling2D(pool_size=2))\n",
        "model.add(tf.keras.layers.Dropout(0.25))\n",
        "\n",
        "model.add(tf.keras.layers.Flatten())\n",
        "\n",
        "model.add(tf.keras.layers.Dense(512, activation='relu'))\n",
        "model.add(tf.keras.layers.Dropout(0.15))\n",
        "\n",
        "\n",
        "model.add(tf.keras.layers.Dense(2, activation='sigmoid'))\n",
        "\n",
        "# Take a look at the model summary\n",
        "model.summary()"
      ],
      "execution_count": null,
      "outputs": [
        {
          "output_type": "stream",
          "text": [
            "Model: \"sequential_10\"\n",
            "_________________________________________________________________\n",
            "Layer (type)                 Output Shape              Param #   \n",
            "=================================================================\n",
            "conv2d (Conv2D)              (None, 224, 224, 16)      3904      \n",
            "_________________________________________________________________\n",
            "max_pooling2d (MaxPooling2D) (None, 112, 112, 16)      0         \n",
            "_________________________________________________________________\n",
            "dropout_1 (Dropout)          (None, 112, 112, 16)      0         \n",
            "_________________________________________________________________\n",
            "conv2d_1 (Conv2D)            (None, 112, 112, 16)      20752     \n",
            "_________________________________________________________________\n",
            "max_pooling2d_1 (MaxPooling2 (None, 56, 56, 16)        0         \n",
            "_________________________________________________________________\n",
            "dropout_2 (Dropout)          (None, 56, 56, 16)        0         \n",
            "_________________________________________________________________\n",
            "conv2d_2 (Conv2D)            (None, 56, 56, 36)        46692     \n",
            "_________________________________________________________________\n",
            "max_pooling2d_2 (MaxPooling2 (None, 28, 28, 36)        0         \n",
            "_________________________________________________________________\n",
            "dropout_3 (Dropout)          (None, 28, 28, 36)        0         \n",
            "_________________________________________________________________\n",
            "flatten_4 (Flatten)          (None, 28224)             0         \n",
            "_________________________________________________________________\n",
            "dense_1 (Dense)              (None, 512)               14451200  \n",
            "_________________________________________________________________\n",
            "dropout_4 (Dropout)          (None, 512)               0         \n",
            "_________________________________________________________________\n",
            "dense_2 (Dense)              (None, 2)                 1026      \n",
            "=================================================================\n",
            "Total params: 14,523,574\n",
            "Trainable params: 14,523,574\n",
            "Non-trainable params: 0\n",
            "_________________________________________________________________\n"
          ],
          "name": "stdout"
        }
      ]
    },
    {
      "cell_type": "code",
      "metadata": {
        "id": "mTIaVt9qUXZg",
        "colab_type": "code",
        "colab": {}
      },
      "source": [
        "model.compile(loss='categorical_crossentropy',\n",
        "             optimizer=tf.keras.optimizers.Adam(),\n",
        "             metrics=['acc'])"
      ],
      "execution_count": null,
      "outputs": []
    },
    {
      "cell_type": "code",
      "metadata": {
        "id": "8xvXPd6JXOfo",
        "colab_type": "code",
        "colab": {
          "base_uri": "https://localhost:8080/",
          "height": 1000
        },
        "outputId": "12280741-0cbd-4377-f17e-c33fbd7b80ca"
      },
      "source": [
        "model.fit(X_train,\n",
        "         y_train,\n",
        "         batch_size=128,\n",
        "         epochs=150,\n",
        "         validation_data=(X_test, y_test))"
      ],
      "execution_count": null,
      "outputs": [
        {
          "output_type": "stream",
          "text": [
            "Epoch 1/150\n",
            "2/2 [==============================] - 2s 1s/step - loss: 2.4553 - acc: 0.4889 - val_loss: 0.6392 - val_acc: 0.6494\n",
            "Epoch 2/150\n",
            "2/2 [==============================] - 0s 79ms/step - loss: 0.6756 - acc: 0.6056 - val_loss: 0.6460 - val_acc: 0.6494\n",
            "Epoch 3/150\n",
            "2/2 [==============================] - 0s 80ms/step - loss: 0.6583 - acc: 0.6056 - val_loss: 0.6105 - val_acc: 0.6494\n",
            "Epoch 4/150\n",
            "2/2 [==============================] - 0s 74ms/step - loss: 0.6353 - acc: 0.6056 - val_loss: 0.6120 - val_acc: 0.6494\n",
            "Epoch 5/150\n",
            "2/2 [==============================] - 0s 77ms/step - loss: 0.6321 - acc: 0.6056 - val_loss: 0.6388 - val_acc: 0.6494\n",
            "Epoch 6/150\n",
            "2/2 [==============================] - 0s 78ms/step - loss: 0.6299 - acc: 0.6056 - val_loss: 0.6077 - val_acc: 0.6494\n",
            "Epoch 7/150\n",
            "2/2 [==============================] - 0s 72ms/step - loss: 0.6054 - acc: 0.6056 - val_loss: 0.6336 - val_acc: 0.8052\n",
            "Epoch 8/150\n",
            "2/2 [==============================] - 0s 75ms/step - loss: 0.5828 - acc: 0.6944 - val_loss: 0.5745 - val_acc: 0.8052\n",
            "Epoch 9/150\n",
            "2/2 [==============================] - 0s 74ms/step - loss: 0.5544 - acc: 0.7833 - val_loss: 0.5279 - val_acc: 0.8052\n",
            "Epoch 10/150\n",
            "2/2 [==============================] - 0s 74ms/step - loss: 0.5451 - acc: 0.7611 - val_loss: 0.5384 - val_acc: 0.7532\n",
            "Epoch 11/150\n",
            "2/2 [==============================] - 0s 76ms/step - loss: 0.5313 - acc: 0.7278 - val_loss: 0.5174 - val_acc: 0.7792\n",
            "Epoch 12/150\n",
            "2/2 [==============================] - 0s 78ms/step - loss: 0.5202 - acc: 0.7722 - val_loss: 0.4953 - val_acc: 0.8052\n",
            "Epoch 13/150\n",
            "2/2 [==============================] - 0s 77ms/step - loss: 0.5057 - acc: 0.7611 - val_loss: 0.5181 - val_acc: 0.8052\n",
            "Epoch 14/150\n",
            "2/2 [==============================] - 0s 75ms/step - loss: 0.4901 - acc: 0.7778 - val_loss: 0.5271 - val_acc: 0.7922\n",
            "Epoch 15/150\n",
            "2/2 [==============================] - 0s 79ms/step - loss: 0.4835 - acc: 0.7500 - val_loss: 0.4838 - val_acc: 0.8052\n",
            "Epoch 16/150\n",
            "2/2 [==============================] - 0s 76ms/step - loss: 0.4531 - acc: 0.7944 - val_loss: 0.4511 - val_acc: 0.8182\n",
            "Epoch 17/150\n",
            "2/2 [==============================] - 0s 74ms/step - loss: 0.4962 - acc: 0.7944 - val_loss: 0.4829 - val_acc: 0.7922\n",
            "Epoch 18/150\n",
            "2/2 [==============================] - 0s 74ms/step - loss: 0.4391 - acc: 0.7833 - val_loss: 0.5064 - val_acc: 0.7792\n",
            "Epoch 19/150\n",
            "2/2 [==============================] - 0s 75ms/step - loss: 0.4488 - acc: 0.8111 - val_loss: 0.4887 - val_acc: 0.8052\n",
            "Epoch 20/150\n",
            "2/2 [==============================] - 0s 77ms/step - loss: 0.4335 - acc: 0.7778 - val_loss: 0.4735 - val_acc: 0.7792\n",
            "Epoch 21/150\n",
            "2/2 [==============================] - 0s 76ms/step - loss: 0.3863 - acc: 0.8111 - val_loss: 0.4626 - val_acc: 0.7662\n",
            "Epoch 22/150\n",
            "2/2 [==============================] - 0s 76ms/step - loss: 0.3794 - acc: 0.8111 - val_loss: 0.4465 - val_acc: 0.7922\n",
            "Epoch 23/150\n",
            "2/2 [==============================] - 0s 79ms/step - loss: 0.3334 - acc: 0.8278 - val_loss: 0.4607 - val_acc: 0.7662\n",
            "Epoch 24/150\n",
            "2/2 [==============================] - 0s 74ms/step - loss: 0.3371 - acc: 0.8333 - val_loss: 0.4399 - val_acc: 0.8182\n",
            "Epoch 25/150\n",
            "2/2 [==============================] - 0s 77ms/step - loss: 0.3027 - acc: 0.8222 - val_loss: 0.4620 - val_acc: 0.8182\n",
            "Epoch 26/150\n",
            "2/2 [==============================] - 0s 75ms/step - loss: 0.3009 - acc: 0.8222 - val_loss: 0.4735 - val_acc: 0.7922\n",
            "Epoch 27/150\n",
            "2/2 [==============================] - 0s 75ms/step - loss: 0.2713 - acc: 0.8444 - val_loss: 0.4636 - val_acc: 0.8052\n",
            "Epoch 28/150\n",
            "2/2 [==============================] - 0s 74ms/step - loss: 0.2651 - acc: 0.8722 - val_loss: 0.4640 - val_acc: 0.8052\n",
            "Epoch 29/150\n",
            "2/2 [==============================] - 0s 72ms/step - loss: 0.2944 - acc: 0.8444 - val_loss: 0.4543 - val_acc: 0.7922\n",
            "Epoch 30/150\n",
            "2/2 [==============================] - 0s 78ms/step - loss: 0.2291 - acc: 0.8667 - val_loss: 0.4946 - val_acc: 0.8442\n",
            "Epoch 31/150\n",
            "2/2 [==============================] - 0s 75ms/step - loss: 0.2447 - acc: 0.8444 - val_loss: 0.5339 - val_acc: 0.8442\n",
            "Epoch 32/150\n",
            "2/2 [==============================] - 0s 76ms/step - loss: 0.2515 - acc: 0.8611 - val_loss: 0.4848 - val_acc: 0.8182\n",
            "Epoch 33/150\n",
            "2/2 [==============================] - 0s 78ms/step - loss: 0.1987 - acc: 0.8444 - val_loss: 0.4546 - val_acc: 0.8182\n",
            "Epoch 34/150\n",
            "2/2 [==============================] - 0s 75ms/step - loss: 0.1801 - acc: 0.8833 - val_loss: 0.4639 - val_acc: 0.8182\n",
            "Epoch 35/150\n",
            "2/2 [==============================] - 0s 74ms/step - loss: 0.1768 - acc: 0.8722 - val_loss: 0.5050 - val_acc: 0.8182\n",
            "Epoch 36/150\n",
            "2/2 [==============================] - 0s 75ms/step - loss: 0.1916 - acc: 0.8778 - val_loss: 0.5322 - val_acc: 0.8312\n",
            "Epoch 37/150\n",
            "2/2 [==============================] - 0s 73ms/step - loss: 0.1392 - acc: 0.9222 - val_loss: 0.5178 - val_acc: 0.8312\n",
            "Epoch 38/150\n",
            "2/2 [==============================] - 0s 76ms/step - loss: 0.1388 - acc: 0.9056 - val_loss: 0.5387 - val_acc: 0.8182\n",
            "Epoch 39/150\n",
            "2/2 [==============================] - 0s 75ms/step - loss: 0.1333 - acc: 0.9111 - val_loss: 0.6323 - val_acc: 0.8312\n",
            "Epoch 40/150\n",
            "2/2 [==============================] - 0s 81ms/step - loss: 0.1918 - acc: 0.9056 - val_loss: 0.5123 - val_acc: 0.8182\n",
            "Epoch 41/150\n",
            "2/2 [==============================] - 0s 75ms/step - loss: 0.1369 - acc: 0.9000 - val_loss: 0.4551 - val_acc: 0.8052\n",
            "Epoch 42/150\n",
            "2/2 [==============================] - 0s 77ms/step - loss: 0.1711 - acc: 0.9056 - val_loss: 0.4696 - val_acc: 0.8182\n",
            "Epoch 43/150\n",
            "2/2 [==============================] - 0s 75ms/step - loss: 0.1321 - acc: 0.9222 - val_loss: 0.5970 - val_acc: 0.8052\n",
            "Epoch 44/150\n",
            "2/2 [==============================] - 0s 75ms/step - loss: 0.1606 - acc: 0.9167 - val_loss: 0.6075 - val_acc: 0.8312\n",
            "Epoch 45/150\n",
            "2/2 [==============================] - 0s 74ms/step - loss: 0.1044 - acc: 0.9389 - val_loss: 0.6601 - val_acc: 0.8182\n",
            "Epoch 46/150\n",
            "2/2 [==============================] - 0s 75ms/step - loss: 0.1453 - acc: 0.9056 - val_loss: 0.6851 - val_acc: 0.8182\n",
            "Epoch 47/150\n",
            "2/2 [==============================] - 0s 74ms/step - loss: 0.1155 - acc: 0.9167 - val_loss: 0.7100 - val_acc: 0.8182\n",
            "Epoch 48/150\n",
            "2/2 [==============================] - 0s 75ms/step - loss: 0.1018 - acc: 0.9222 - val_loss: 0.7162 - val_acc: 0.8182\n",
            "Epoch 49/150\n",
            "2/2 [==============================] - 0s 76ms/step - loss: 0.0999 - acc: 0.9333 - val_loss: 0.7060 - val_acc: 0.8442\n",
            "Epoch 50/150\n",
            "2/2 [==============================] - 0s 79ms/step - loss: 0.1137 - acc: 0.9222 - val_loss: 0.6068 - val_acc: 0.8312\n",
            "Epoch 51/150\n",
            "2/2 [==============================] - 0s 76ms/step - loss: 0.0804 - acc: 0.9500 - val_loss: 0.5379 - val_acc: 0.8312\n",
            "Epoch 52/150\n",
            "2/2 [==============================] - 0s 78ms/step - loss: 0.0946 - acc: 0.9611 - val_loss: 0.5458 - val_acc: 0.8312\n",
            "Epoch 53/150\n",
            "2/2 [==============================] - 0s 75ms/step - loss: 0.0657 - acc: 0.9556 - val_loss: 0.6381 - val_acc: 0.8442\n",
            "Epoch 54/150\n",
            "2/2 [==============================] - 0s 77ms/step - loss: 0.0639 - acc: 0.9611 - val_loss: 0.7299 - val_acc: 0.8312\n",
            "Epoch 55/150\n",
            "2/2 [==============================] - 0s 74ms/step - loss: 0.0602 - acc: 0.9556 - val_loss: 0.7620 - val_acc: 0.8442\n",
            "Epoch 56/150\n",
            "2/2 [==============================] - 0s 75ms/step - loss: 0.0429 - acc: 0.9778 - val_loss: 0.8118 - val_acc: 0.8312\n",
            "Epoch 57/150\n",
            "2/2 [==============================] - 0s 78ms/step - loss: 0.0709 - acc: 0.9611 - val_loss: 0.7872 - val_acc: 0.8442\n",
            "Epoch 58/150\n",
            "2/2 [==============================] - 0s 75ms/step - loss: 0.0555 - acc: 0.9611 - val_loss: 0.7046 - val_acc: 0.8571\n",
            "Epoch 59/150\n",
            "2/2 [==============================] - 0s 73ms/step - loss: 0.0467 - acc: 0.9667 - val_loss: 0.6850 - val_acc: 0.8312\n",
            "Epoch 60/150\n",
            "2/2 [==============================] - 0s 75ms/step - loss: 0.0643 - acc: 0.9667 - val_loss: 0.6863 - val_acc: 0.8182\n",
            "Epoch 61/150\n",
            "2/2 [==============================] - 0s 78ms/step - loss: 0.0668 - acc: 0.9722 - val_loss: 0.7016 - val_acc: 0.8182\n",
            "Epoch 62/150\n",
            "2/2 [==============================] - 0s 78ms/step - loss: 0.0384 - acc: 0.9944 - val_loss: 0.7273 - val_acc: 0.8312\n",
            "Epoch 63/150\n",
            "2/2 [==============================] - 0s 76ms/step - loss: 0.0363 - acc: 0.9778 - val_loss: 0.8434 - val_acc: 0.8442\n",
            "Epoch 64/150\n",
            "2/2 [==============================] - 0s 81ms/step - loss: 0.0384 - acc: 0.9722 - val_loss: 0.9709 - val_acc: 0.8312\n",
            "Epoch 65/150\n",
            "2/2 [==============================] - 0s 75ms/step - loss: 0.0295 - acc: 0.9722 - val_loss: 1.0475 - val_acc: 0.8442\n",
            "Epoch 66/150\n",
            "2/2 [==============================] - 0s 77ms/step - loss: 0.0307 - acc: 0.9833 - val_loss: 1.0878 - val_acc: 0.8571\n",
            "Epoch 67/150\n",
            "2/2 [==============================] - 0s 75ms/step - loss: 0.0459 - acc: 0.9833 - val_loss: 1.0043 - val_acc: 0.8312\n",
            "Epoch 68/150\n",
            "2/2 [==============================] - 0s 74ms/step - loss: 0.0398 - acc: 0.9889 - val_loss: 0.9014 - val_acc: 0.8182\n",
            "Epoch 69/150\n",
            "2/2 [==============================] - 0s 77ms/step - loss: 0.0408 - acc: 0.9667 - val_loss: 0.8878 - val_acc: 0.8442\n",
            "Epoch 70/150\n",
            "2/2 [==============================] - 0s 75ms/step - loss: 0.0560 - acc: 0.9667 - val_loss: 0.7717 - val_acc: 0.8571\n",
            "Epoch 71/150\n",
            "2/2 [==============================] - 0s 76ms/step - loss: 0.0471 - acc: 0.9722 - val_loss: 0.6548 - val_acc: 0.8442\n",
            "Epoch 72/150\n",
            "2/2 [==============================] - 0s 76ms/step - loss: 0.0445 - acc: 0.9667 - val_loss: 0.7056 - val_acc: 0.8442\n",
            "Epoch 73/150\n",
            "2/2 [==============================] - 0s 75ms/step - loss: 0.0810 - acc: 0.9611 - val_loss: 0.7168 - val_acc: 0.8571\n",
            "Epoch 74/150\n",
            "2/2 [==============================] - 0s 75ms/step - loss: 0.0294 - acc: 0.9778 - val_loss: 0.8415 - val_acc: 0.8701\n",
            "Epoch 75/150\n",
            "2/2 [==============================] - 0s 77ms/step - loss: 0.0279 - acc: 0.9889 - val_loss: 1.0274 - val_acc: 0.8442\n",
            "Epoch 76/150\n",
            "2/2 [==============================] - 0s 74ms/step - loss: 0.0818 - acc: 0.9611 - val_loss: 0.9040 - val_acc: 0.8442\n",
            "Epoch 77/150\n",
            "2/2 [==============================] - 0s 76ms/step - loss: 0.0944 - acc: 0.9778 - val_loss: 0.7451 - val_acc: 0.8442\n",
            "Epoch 78/150\n",
            "2/2 [==============================] - 0s 75ms/step - loss: 0.0366 - acc: 0.9944 - val_loss: 0.5789 - val_acc: 0.8571\n",
            "Epoch 79/150\n",
            "2/2 [==============================] - 0s 75ms/step - loss: 0.0565 - acc: 0.9833 - val_loss: 0.5806 - val_acc: 0.8701\n",
            "Epoch 80/150\n",
            "2/2 [==============================] - 0s 79ms/step - loss: 0.0586 - acc: 0.9556 - val_loss: 0.6558 - val_acc: 0.8312\n",
            "Epoch 81/150\n",
            "2/2 [==============================] - 0s 76ms/step - loss: 0.0247 - acc: 0.9944 - val_loss: 0.7624 - val_acc: 0.8182\n",
            "Epoch 82/150\n",
            "2/2 [==============================] - 0s 73ms/step - loss: 0.0340 - acc: 0.9833 - val_loss: 0.9035 - val_acc: 0.8182\n",
            "Epoch 83/150\n",
            "2/2 [==============================] - 0s 75ms/step - loss: 0.0227 - acc: 0.9889 - val_loss: 1.0351 - val_acc: 0.8182\n",
            "Epoch 84/150\n",
            "2/2 [==============================] - 0s 78ms/step - loss: 0.0194 - acc: 0.9889 - val_loss: 1.1204 - val_acc: 0.8312\n",
            "Epoch 85/150\n",
            "2/2 [==============================] - 0s 75ms/step - loss: 0.0313 - acc: 0.9833 - val_loss: 1.1371 - val_acc: 0.8442\n",
            "Epoch 86/150\n",
            "2/2 [==============================] - 0s 74ms/step - loss: 0.0174 - acc: 0.9889 - val_loss: 1.1360 - val_acc: 0.8312\n",
            "Epoch 87/150\n",
            "2/2 [==============================] - 0s 76ms/step - loss: 0.0136 - acc: 0.9889 - val_loss: 1.1448 - val_acc: 0.8182\n",
            "Epoch 88/150\n",
            "2/2 [==============================] - 0s 73ms/step - loss: 0.0137 - acc: 0.9944 - val_loss: 1.1837 - val_acc: 0.8312\n",
            "Epoch 89/150\n",
            "2/2 [==============================] - 0s 75ms/step - loss: 0.0238 - acc: 0.9778 - val_loss: 1.1633 - val_acc: 0.8182\n",
            "Epoch 90/150\n",
            "2/2 [==============================] - 0s 77ms/step - loss: 0.0132 - acc: 0.9944 - val_loss: 1.1042 - val_acc: 0.7662\n",
            "Epoch 91/150\n",
            "2/2 [==============================] - 0s 75ms/step - loss: 0.0333 - acc: 0.9889 - val_loss: 0.9695 - val_acc: 0.8442\n",
            "Epoch 92/150\n",
            "2/2 [==============================] - 0s 75ms/step - loss: 0.0102 - acc: 0.9944 - val_loss: 0.9433 - val_acc: 0.8182\n",
            "Epoch 93/150\n",
            "2/2 [==============================] - 0s 74ms/step - loss: 0.0224 - acc: 0.9833 - val_loss: 0.9636 - val_acc: 0.8182\n",
            "Epoch 94/150\n",
            "2/2 [==============================] - 0s 74ms/step - loss: 0.0165 - acc: 0.9944 - val_loss: 1.0115 - val_acc: 0.8182\n",
            "Epoch 95/150\n",
            "2/2 [==============================] - 0s 74ms/step - loss: 0.0178 - acc: 0.9944 - val_loss: 1.0875 - val_acc: 0.8312\n",
            "Epoch 96/150\n",
            "2/2 [==============================] - 0s 74ms/step - loss: 0.0123 - acc: 0.9944 - val_loss: 1.1334 - val_acc: 0.8312\n",
            "Epoch 97/150\n",
            "2/2 [==============================] - 0s 76ms/step - loss: 0.0193 - acc: 0.9889 - val_loss: 1.1691 - val_acc: 0.8312\n",
            "Epoch 98/150\n",
            "2/2 [==============================] - 0s 76ms/step - loss: 0.0110 - acc: 0.9889 - val_loss: 1.2050 - val_acc: 0.8312\n",
            "Epoch 99/150\n",
            "2/2 [==============================] - 0s 75ms/step - loss: 0.0153 - acc: 0.9889 - val_loss: 1.2264 - val_acc: 0.8312\n",
            "Epoch 100/150\n",
            "2/2 [==============================] - 0s 74ms/step - loss: 0.0138 - acc: 0.9833 - val_loss: 1.2381 - val_acc: 0.8312\n",
            "Epoch 101/150\n",
            "2/2 [==============================] - 0s 78ms/step - loss: 0.0170 - acc: 0.9833 - val_loss: 1.2594 - val_acc: 0.8312\n",
            "Epoch 102/150\n",
            "2/2 [==============================] - 0s 73ms/step - loss: 0.0100 - acc: 0.9944 - val_loss: 1.2975 - val_acc: 0.8312\n",
            "Epoch 103/150\n",
            "2/2 [==============================] - 0s 72ms/step - loss: 0.0123 - acc: 0.9889 - val_loss: 1.3397 - val_acc: 0.8312\n",
            "Epoch 104/150\n",
            "2/2 [==============================] - 0s 74ms/step - loss: 0.0099 - acc: 0.9944 - val_loss: 1.3706 - val_acc: 0.8571\n",
            "Epoch 105/150\n",
            "2/2 [==============================] - 0s 72ms/step - loss: 0.0155 - acc: 0.9944 - val_loss: 1.3802 - val_acc: 0.8571\n",
            "Epoch 106/150\n",
            "2/2 [==============================] - 0s 74ms/step - loss: 0.0148 - acc: 0.9889 - val_loss: 1.4081 - val_acc: 0.8182\n",
            "Epoch 107/150\n",
            "2/2 [==============================] - 0s 74ms/step - loss: 0.0250 - acc: 0.9889 - val_loss: 1.4004 - val_acc: 0.8182\n",
            "Epoch 108/150\n",
            "2/2 [==============================] - 0s 75ms/step - loss: 0.0083 - acc: 0.9944 - val_loss: 1.3675 - val_acc: 0.8182\n",
            "Epoch 109/150\n",
            "2/2 [==============================] - 0s 76ms/step - loss: 0.0175 - acc: 0.9889 - val_loss: 1.4676 - val_acc: 0.8312\n",
            "Epoch 110/150\n",
            "2/2 [==============================] - 0s 75ms/step - loss: 0.0517 - acc: 0.9833 - val_loss: 1.4335 - val_acc: 0.8182\n",
            "Epoch 111/150\n",
            "2/2 [==============================] - 0s 74ms/step - loss: 0.0081 - acc: 0.9944 - val_loss: 1.4142 - val_acc: 0.8182\n",
            "Epoch 112/150\n",
            "2/2 [==============================] - 0s 74ms/step - loss: 0.0210 - acc: 0.9889 - val_loss: 1.4929 - val_acc: 0.8182\n",
            "Epoch 113/150\n",
            "2/2 [==============================] - 0s 72ms/step - loss: 0.0092 - acc: 0.9944 - val_loss: 1.5397 - val_acc: 0.8182\n",
            "Epoch 114/150\n",
            "2/2 [==============================] - 0s 75ms/step - loss: 0.0091 - acc: 0.9889 - val_loss: 1.5674 - val_acc: 0.8052\n",
            "Epoch 115/150\n",
            "2/2 [==============================] - 0s 75ms/step - loss: 0.0079 - acc: 1.0000 - val_loss: 1.5970 - val_acc: 0.8312\n",
            "Epoch 116/150\n",
            "2/2 [==============================] - 0s 77ms/step - loss: 0.0206 - acc: 0.9833 - val_loss: 1.5591 - val_acc: 0.8182\n",
            "Epoch 117/150\n",
            "2/2 [==============================] - 0s 74ms/step - loss: 0.0089 - acc: 0.9944 - val_loss: 1.4331 - val_acc: 0.8182\n",
            "Epoch 118/150\n",
            "2/2 [==============================] - 0s 80ms/step - loss: 0.1124 - acc: 0.9722 - val_loss: 1.3411 - val_acc: 0.8182\n",
            "Epoch 119/150\n",
            "2/2 [==============================] - 0s 73ms/step - loss: 0.0125 - acc: 0.9944 - val_loss: 1.3450 - val_acc: 0.7922\n",
            "Epoch 120/150\n",
            "2/2 [==============================] - 0s 73ms/step - loss: 0.0117 - acc: 0.9944 - val_loss: 1.4624 - val_acc: 0.8312\n",
            "Epoch 121/150\n",
            "2/2 [==============================] - 0s 72ms/step - loss: 0.0204 - acc: 0.9889 - val_loss: 1.4847 - val_acc: 0.8312\n",
            "Epoch 122/150\n",
            "2/2 [==============================] - 0s 75ms/step - loss: 0.0088 - acc: 0.9944 - val_loss: 1.4347 - val_acc: 0.8312\n",
            "Epoch 123/150\n",
            "2/2 [==============================] - 0s 72ms/step - loss: 0.0120 - acc: 0.9944 - val_loss: 1.3986 - val_acc: 0.8052\n",
            "Epoch 124/150\n",
            "2/2 [==============================] - 0s 73ms/step - loss: 0.0411 - acc: 0.9889 - val_loss: 1.3261 - val_acc: 0.8052\n",
            "Epoch 125/150\n",
            "2/2 [==============================] - 0s 74ms/step - loss: 0.0403 - acc: 0.9833 - val_loss: 1.2996 - val_acc: 0.8052\n",
            "Epoch 126/150\n",
            "2/2 [==============================] - 0s 75ms/step - loss: 0.0188 - acc: 0.9889 - val_loss: 1.3113 - val_acc: 0.7922\n",
            "Epoch 127/150\n",
            "2/2 [==============================] - 0s 79ms/step - loss: 0.0094 - acc: 0.9944 - val_loss: 1.3492 - val_acc: 0.8182\n",
            "Epoch 128/150\n",
            "2/2 [==============================] - 0s 73ms/step - loss: 0.0359 - acc: 0.9889 - val_loss: 1.3919 - val_acc: 0.8182\n",
            "Epoch 129/150\n",
            "2/2 [==============================] - 0s 75ms/step - loss: 0.0333 - acc: 0.9889 - val_loss: 1.4512 - val_acc: 0.8052\n",
            "Epoch 130/150\n",
            "2/2 [==============================] - 0s 73ms/step - loss: 0.0681 - acc: 0.9833 - val_loss: 1.4606 - val_acc: 0.8052\n",
            "Epoch 131/150\n",
            "2/2 [==============================] - 0s 75ms/step - loss: 0.0296 - acc: 0.9889 - val_loss: 1.4074 - val_acc: 0.8052\n",
            "Epoch 132/150\n",
            "2/2 [==============================] - 0s 78ms/step - loss: 0.0170 - acc: 0.9889 - val_loss: 1.3567 - val_acc: 0.7792\n",
            "Epoch 133/150\n",
            "2/2 [==============================] - 0s 75ms/step - loss: 0.0104 - acc: 0.9944 - val_loss: 1.2950 - val_acc: 0.7403\n",
            "Epoch 134/150\n",
            "2/2 [==============================] - 0s 75ms/step - loss: 0.0526 - acc: 0.9778 - val_loss: 1.1934 - val_acc: 0.8052\n",
            "Epoch 135/150\n",
            "2/2 [==============================] - 0s 72ms/step - loss: 0.0100 - acc: 0.9944 - val_loss: 1.2709 - val_acc: 0.8182\n",
            "Epoch 136/150\n",
            "2/2 [==============================] - 0s 72ms/step - loss: 0.0156 - acc: 0.9889 - val_loss: 1.3653 - val_acc: 0.8182\n",
            "Epoch 137/150\n",
            "2/2 [==============================] - 0s 78ms/step - loss: 0.0324 - acc: 0.9778 - val_loss: 1.3951 - val_acc: 0.8052\n",
            "Epoch 138/150\n",
            "2/2 [==============================] - 0s 74ms/step - loss: 0.0567 - acc: 0.9833 - val_loss: 1.2711 - val_acc: 0.8182\n",
            "Epoch 139/150\n",
            "2/2 [==============================] - 0s 72ms/step - loss: 0.0227 - acc: 0.9889 - val_loss: 1.2252 - val_acc: 0.8182\n",
            "Epoch 140/150\n",
            "2/2 [==============================] - 0s 73ms/step - loss: 0.0173 - acc: 0.9944 - val_loss: 1.2221 - val_acc: 0.8312\n",
            "Epoch 141/150\n",
            "2/2 [==============================] - 0s 75ms/step - loss: 0.0239 - acc: 0.9889 - val_loss: 1.2250 - val_acc: 0.8182\n",
            "Epoch 142/150\n",
            "2/2 [==============================] - 0s 74ms/step - loss: 0.0330 - acc: 0.9833 - val_loss: 1.2145 - val_acc: 0.8312\n",
            "Epoch 143/150\n",
            "2/2 [==============================] - 0s 73ms/step - loss: 0.0111 - acc: 0.9889 - val_loss: 1.2058 - val_acc: 0.8182\n",
            "Epoch 144/150\n",
            "2/2 [==============================] - 0s 78ms/step - loss: 0.0213 - acc: 0.9833 - val_loss: 1.2315 - val_acc: 0.8052\n",
            "Epoch 145/150\n",
            "2/2 [==============================] - 0s 75ms/step - loss: 0.0193 - acc: 0.9889 - val_loss: 1.3075 - val_acc: 0.8182\n",
            "Epoch 146/150\n",
            "2/2 [==============================] - 0s 75ms/step - loss: 0.0091 - acc: 0.9944 - val_loss: 1.3797 - val_acc: 0.8052\n",
            "Epoch 147/150\n",
            "2/2 [==============================] - 0s 72ms/step - loss: 0.0108 - acc: 0.9944 - val_loss: 1.4279 - val_acc: 0.8052\n",
            "Epoch 148/150\n",
            "2/2 [==============================] - 0s 75ms/step - loss: 0.0083 - acc: 0.9944 - val_loss: 1.4639 - val_acc: 0.8052\n",
            "Epoch 149/150\n",
            "2/2 [==============================] - 0s 70ms/step - loss: 0.0083 - acc: 0.9944 - val_loss: 1.4826 - val_acc: 0.8052\n",
            "Epoch 150/150\n",
            "2/2 [==============================] - 0s 70ms/step - loss: 0.0104 - acc: 0.9944 - val_loss: 1.5012 - val_acc: 0.8052\n"
          ],
          "name": "stdout"
        },
        {
          "output_type": "execute_result",
          "data": {
            "text/plain": [
              "<tensorflow.python.keras.callbacks.History at 0x7fdafaec0160>"
            ]
          },
          "metadata": {
            "tags": []
          },
          "execution_count": 73
        }
      ]
    },
    {
      "cell_type": "code",
      "metadata": {
        "id": "1LWBVdPGb8kH",
        "colab_type": "code",
        "colab": {}
      },
      "source": [
        " def layers(self):\n",
        "        # Historically, `sequential.layers` only returns layers that were added\n",
        "        # via `add`, and omits the auto-generated `InputLayer`\n",
        "        # that comes at the bottom of the stack.\n",
        "        if self._layers and isinstance(self._layers[0], InputLayer):\n",
        "            return self._layers[1:]\n",
        "        return self._layers"
      ],
      "execution_count": null,
      "outputs": []
    },
    {
      "cell_type": "code",
      "metadata": {
        "id": "7rHinwj6U972",
        "colab_type": "code",
        "colab": {
          "base_uri": "https://localhost:8080/",
          "height": 1000
        },
        "outputId": "c9f81392-815d-43bc-d2eb-5cfaf82b2797"
      },
      "source": [
        "tf.keras.utils.plot_model(model, to_file='model_combined.png')"
      ],
      "execution_count": null,
      "outputs": [
        {
          "output_type": "execute_result",
          "data": {
            "image/png": "[encoded data removed]",
            "text/plain": [
              "<IPython.core.display.Image object>"
            ]
          },
          "metadata": {
            "tags": []
          },
          "execution_count": 75
        }
      ]
    },
    {
      "cell_type": "code",
      "metadata": {
        "id": "3gy7y9XIVAfy",
        "colab_type": "code",
        "colab": {
          "base_uri": "https://localhost:8080/",
          "height": 68
        },
        "outputId": "1ba4125d-b7a6-4d1e-b264-175064a4b9e9"
      },
      "source": [
        "score = model.evaluate(X_test, y_test, verbose=0)\n",
        "print('Test loss:', score[0])\n",
        "print('\\n','Test accuracy:', score[1])"
      ],
      "execution_count": null,
      "outputs": [
        {
          "output_type": "stream",
          "text": [
            "Test loss: 1.5011729001998901\n",
            "\n",
            " Test accuracy: 0.8051947951316833\n"
          ],
          "name": "stdout"
        }
      ]
    },
    {
      "cell_type": "code",
      "metadata": {
        "id": "6ENeITIBhHYT",
        "colab_type": "code",
        "colab": {}
      },
      "source": [
        "#confusion_mtx = confusion_matrix(y_test, predictions) \n",
        "#cm = plot_confusion_matrix(confusion_mtx, classes = list(labels.items()), normalize=False)"
      ],
      "execution_count": null,
      "outputs": []
    },
    {
      "cell_type": "markdown",
      "metadata": {
        "id": "vw3XpjgaUH9D",
        "colab_type": "text"
      },
      "source": [
        "## VGG 16"
      ]
    },
    {
      "cell_type": "code",
      "metadata": {
        "id": "zXbz2bJCRlmY",
        "colab_type": "code",
        "colab": {
          "base_uri": "https://localhost:8080/",
          "height": 232
        },
        "outputId": "defb426f-10be-47cf-d7c6-ca5ca48abec5"
      },
      "source": [
        "model_vgg = VGG16(weights=None, include_top=False, input_shape = (224, 224, 3))#default imagenet\n",
        "\n",
        "#for layer in model.layers[:5]:\n",
        "#    layer.trainable = True\n",
        "\n",
        "x = model_vgg.output\n",
        "x = Flatten()(x)\n",
        "x = Dense(1024, activation=\"relu\")(x)\n",
        "x = Dropout(0.5)(x)\n",
        "final = Dense(2, activation=\"sigmoid\")(x)\n",
        "model_final = Model(input = model_vgg.input, output = final)\n",
        "model_vgg.summary()"
      ],
      "execution_count": null,
      "outputs": [
        {
          "output_type": "error",
          "ename": "NameError",
          "evalue": "ignored",
          "traceback": [
            "\u001b[0;31m---------------------------------------------------------------------------\u001b[0m",
            "\u001b[0;31mNameError\u001b[0m                                 Traceback (most recent call last)",
            "\u001b[0;32m<ipython-input-1-a9e3eb2bb0cf>\u001b[0m in \u001b[0;36m<module>\u001b[0;34m()\u001b[0m\n\u001b[0;32m----> 1\u001b[0;31m \u001b[0mmodel_vgg\u001b[0m \u001b[0;34m=\u001b[0m \u001b[0mVGG16\u001b[0m\u001b[0;34m(\u001b[0m\u001b[0mweights\u001b[0m\u001b[0;34m=\u001b[0m\u001b[0;32mNone\u001b[0m\u001b[0;34m,\u001b[0m \u001b[0minclude_top\u001b[0m\u001b[0;34m=\u001b[0m\u001b[0;32mFalse\u001b[0m\u001b[0;34m,\u001b[0m \u001b[0minput_shape\u001b[0m \u001b[0;34m=\u001b[0m \u001b[0;34m(\u001b[0m\u001b[0;36m224\u001b[0m\u001b[0;34m,\u001b[0m \u001b[0;36m224\u001b[0m\u001b[0;34m,\u001b[0m \u001b[0;36m3\u001b[0m\u001b[0;34m)\u001b[0m\u001b[0;34m)\u001b[0m\u001b[0;31m#default imagenet\u001b[0m\u001b[0;34m\u001b[0m\u001b[0;34m\u001b[0m\u001b[0m\n\u001b[0m\u001b[1;32m      2\u001b[0m \u001b[0;34m\u001b[0m\u001b[0m\n\u001b[1;32m      3\u001b[0m \u001b[0;31m#for layer in model.layers[:5]:\u001b[0m\u001b[0;34m\u001b[0m\u001b[0;34m\u001b[0m\u001b[0;34m\u001b[0m\u001b[0m\n\u001b[1;32m      4\u001b[0m \u001b[0;31m#    layer.trainable = True\u001b[0m\u001b[0;34m\u001b[0m\u001b[0;34m\u001b[0m\u001b[0;34m\u001b[0m\u001b[0m\n\u001b[1;32m      5\u001b[0m \u001b[0;34m\u001b[0m\u001b[0m\n",
            "\u001b[0;31mNameError\u001b[0m: name 'VGG16' is not defined"
          ]
        }
      ]
    },
    {
      "cell_type": "code",
      "metadata": {
        "id": "LioMUzOrPjd1",
        "colab_type": "code",
        "colab": {}
      },
      "source": [
        "model_final.compile(loss='categorical_crossentropy',\n",
        "             optimizer=Adam(),\n",
        "             metrics=['acc'])"
      ],
      "execution_count": null,
      "outputs": []
    },
    {
      "cell_type": "code",
      "metadata": {
        "id": "6rF37syKPnjs",
        "colab_type": "code",
        "colab": {}
      },
      "source": [
        "hist = model_final.fit(X_train,y_train,\n",
        "         batch_size=32,\n",
        "         epochs=100,\n",
        "         validation_data=(X_test, y_test))\n"
      ],
      "execution_count": null,
      "outputs": []
    },
    {
      "cell_type": "code",
      "metadata": {
        "id": "2zassu3SPreO",
        "colab_type": "code",
        "colab": {}
      },
      "source": [
        "def draw_history(history,figsize=(10,5)):\n",
        "    ax,_ = plt.subplots(figsize=figsize)\n",
        "    plt.plot(history.history['acc'])\n",
        "    plt.plot(history.history['val_acc'])\n",
        "    plt.title('modelaccuracy')\n",
        "    plt.ylabel('accuracy')\n",
        "    plt.xlabel('epoch')\n",
        "    plt.legend(['train','test'],loc='upperleft')\n",
        "    plt.show()\n",
        "    ax,_ = plt.subplots(figsize=figsize)\n",
        "    plt.plot(history.history['loss'])\n",
        "    plt.plot(history.history['val_loss'])\n",
        "    plt.title('modelloss')\n",
        "    plt.ylabel('loss')\n",
        "    plt.xlabel('epoch')\n",
        "    plt.legend(['train','test'],loc='upperleft')\n",
        "    plt.show()\n",
        "    \n",
        "draw_history(hist)"
      ],
      "execution_count": null,
      "outputs": []
    },
    {
      "cell_type": "code",
      "metadata": {
        "id": "BGSRn6qzPtar",
        "colab_type": "code",
        "colab": {}
      },
      "source": [
        ""
      ],
      "execution_count": null,
      "outputs": []
    },
    {
      "cell_type": "code",
      "metadata": {
        "id": "FCJ80I1fN2q-",
        "colab_type": "code",
        "colab": {}
      },
      "source": [
        "plot_model(model,to_file='display.png')\n",
        "# 秀出网络拓补图\n",
        "Image('display.png')"
      ],
      "execution_count": null,
      "outputs": []
    },
    {
      "cell_type": "code",
      "metadata": {
        "id": "3jKnBwJ2O0di",
        "colab_type": "code",
        "colab": {}
      },
      "source": [
        "score = model.evaluate(X_test, y_test, verbose=0)\n",
        "print('Test loss:', score[0])\n",
        "print('\\n','Test accuracy:', score[1])"
      ],
      "execution_count": null,
      "outputs": []
    }
  ]
}